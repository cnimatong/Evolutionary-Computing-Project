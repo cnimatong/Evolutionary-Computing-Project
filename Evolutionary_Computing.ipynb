{
 "cells": [
  {
   "cell_type": "code",
   "execution_count": null,
   "id": "9e3a56a8-f10f-4f54-8816-b9e0e42e05ab",
   "metadata": {
    "jupyter": {
     "source_hidden": true
    },
    "metadata": {
     "hide_input": true
    }
   },
   "outputs": [],
   "source": [
    "# Evolutionary Computing Project Report\n",
    "\n",
    "import matplotlib.pyplot as plt\n",
    "import numpy as np\n",
    "import pandas as pd\n",
    "import seaborn as sns\n",
    "import json\n",
    "\n",
    "# Load the data\n",
    "with open('experiment_results.json') as f:\n",
    "    data = json.load(f)\n",
    "\n",
    "# Function to extract metrics\n",
    "def extract_metrics(data, experiment_name):\n",
    "    iterations = range(len(data[experiment_name]))\n",
    "    mean_fitness = [np.mean(iteration[\"fitness\"]) for iteration in data[experiment_name]]\n",
    "    max_fitness = [np.max(iteration[\"fitness\"]) for iteration in data[experiment_name]]\n",
    "    mean_links = [np.mean(iteration[\"links\"]) for iteration in data[experiment_name]]\n",
    "    return iterations, mean_fitness, max_fitness, mean_links\n",
    "\n",
    "# Extract metrics for control experiment\n",
    "control_iterations, control_mean_fitness, control_max_fitness, control_mean_links = extract_metrics(data, 'control_experiment')\n",
    "\n",
    "# Extract metrics for encoding scheme experiments\n",
    "# Replace 'encoding_scheme_experiment_name' with actual experiment names\n",
    "encoding_experiments = ['evolve_motor_controls', 'evolve_link_length_and_motor_controls', 'high_population_high_mutation', 'low_population_high_crossover']\n",
    "encoding_metrics = {exp: extract_metrics(data, exp) for exp in encoding_experiments}\n"
   ]
  },
  {
   "cell_type": "markdown",
   "id": "c0d6da4d-1de5-47bc-ac94-0562fa38a29d",
   "metadata": {
    "metadata": {
     "hide_input": true
    }
   },
   "source": [
    "<!-- # Evolutionary Computing Project Report {-} -->\n",
    "\n",
    "*Done by: Carlo Imatong*\n",
    "\n",
    "## Introduction {-}\n",
    "Evolutionary computing is a fascinating branch of artificial intelligence that leverages mechanisms inspired by biological evolution, such as reproduction, mutation, recombination, and selection. This project focuses on creating and evolving creatures within a simulated environment using genetic algorithms. The primary objective is to explore how different encoding schemes and experimental setups impact the evolution of these creatures in terms of fitness and complexity.\n",
    "\n",
    "## Basic Experiments {-}\n",
    "The initial experiments aimed to establish a baseline for the creatures’ evolution using a control setup. These experiments utilized a simple genetic algorithm with a defined population size, gene count, crossover rate, and mutation rates. The primary goal was to observe how these parameters affect the fitness and structure of the evolved creatures over multiple iterations.\n",
    "\n",
    "### Experiment Parameters {-}\n",
    "| Experiment Name    | Population Size | Gene Count | Crossover Rate | Point Mutation Rate | Shrink Mutation Rate | Grow Mutation Rate | Non-Evolvable Genes |\n",
    "|--------------------|-----------------|------------|----------------|---------------------|----------------------|--------------------|---------------------|\n",
    "| Control Experiment | 20              | 3          | 0.9            | 0.1                 | 0.25                 | 0.1                | None                |\n",
    "\n",
    "These parameters were carefully selected to provide a balanced approach to evolution, allowing for sufficient genetic diversity while maintaining a manageable population size for computational feasibility.\n",
    "\n",
    "## Fitness Function {-}\n",
    "The fitness function os a cruicial component of the evolutionary algorithm as it determines the quality of each creature. In this project, the fitness function evaluates creatures based on three key components: \n",
    "\n",
    "- Distance Traveled\n",
    "- Proximity to Mountain\n",
    "- Height Achieved\n",
    "\n",
    "### Calculation of Fitness {-}\n",
    "The fitness function is calculated as follows:\n",
    "${ \\text{Fitness} = (w_{\\text{distance}} \\times \\text{Distance Traveled}) + (w_{\\text{proximity}} \\times \\frac{1}{\\text{Proximity to Mountain} + 1}) + (w_{\\text{height}} \\times \\text{Height Achieved}) }$\n",
    "\n",
    "- **Distance Traveled:** This component measures how far the creature has moved from its starting position. It encourages exploration and mobility.\n",
    "- **Proximity to Mountain:** This component rewards creatures that get closer to the mountain, which simulates the ability to navigate towards a goal.\n",
    "- **Height Achieved:** This component rewards creatures that achieve higher altitudes whilst touching the mountain, simulating the ability of climbing the mountain, and encourages the evolution of creatures capable of climbing.\n",
    "\n",
    "### Weight factors {-}\n",
    "\n",
    "The weights for each component are chosen to balance their contributions to the overall fitness:\n",
    "\n",
    "- **Weight for Distance Traveled ( $w_{\\text{distance}}$ ): 0.1**\n",
    "- **Weight for Proximity ( $w_{\\text{proximity}}$ ): 0.4**\n",
    "- **Weight for Height ( $w_{\\text{height}}$ ): 0.5**\n",
    "\n",
    "These weights were selected to ensure that the fitness function appropriately rewards behaviours that enhance survival and adaptability in the simulated environment. The fitness functions design encourages the evolution of creatures that are not only mobile but also capable of navigating complex terrains and achieving higher altitudes on the mountain.\n",
    "\n",
    "### Code Snippet for Fitness Calculation {-}\n",
    "\n",
    "The following code snippet demonstrates how the fitness function is implemented in the simulation:"
   ]
  },
  {
   "cell_type": "markdown",
   "id": "f594b031-48d4-4119-9e90-1509dcd3a592",
   "metadata": {},
   "source": [
    "```python\n",
    "def assess_fitness(self, cr, mountain_position):\n",
    "    \"\"\"\n",
    "    Assess the creature's fitness based on its proximity to the mountain and its height\n",
    "    \"\"\"\n",
    "    if cr.last_position is None:\n",
    "        return\n",
    "\n",
    "    pos = np.array(cr.last_position)\n",
    "    mountain_base = np.array(mountain_position)\n",
    "    distance_to_base = np.linalg.norm(pos[:2] - mountain_base[:2])\n",
    "\n",
    "    # Calculate fitness components\n",
    "    distance_travelled = np.linalg.norm(pos[:2] - np.array(cr.start_position)[:2])\n",
    "    height = pos[2] if self.is_touching_mountain(pos) else 0\n",
    "\n",
    "    # Weights\n",
    "    weight_distance_travelled = 0.1\n",
    "    weight_proximity = 0.4\n",
    "    weight_height = 0.5\n",
    "\n",
    "    # Calculate fitness\n",
    "    fitness_distance_travelled = weight_distance_travelled * distance_travelled\n",
    "    fitness_proximity = weight_proximity * (1 / (distance_to_base + 1))  # Inverse to minimize distance to base\n",
    "    fitness_height = weight_height * height\n",
    "\n",
    "    # Total fitness\n",
    "    cr.fitness = fitness_distance_travelled + fitness_proximity + fitness_height\n",
    "```"
   ]
  },
  {
   "cell_type": "markdown",
   "id": "c6951b8d-ee01-4a1c-b69b-82540be4a3af",
   "metadata": {},
   "source": [
    "This function calculates the fitness of a creature by first determining its distance traveled from the starting position, its proximity to the mountain, and the height it has achieved whilst touching the mountain. These components are weighted and combined to form the overall fitness score, guiding the evolutionary process towards more capable and adaptive creatures.\n",
    "\n",
    "## Results of Basic Experiments {-}\n",
    "\n",
    "The results from the control experiment provided valuable insights into the effectiveness of the basic genetic algorithm setup. By tracking the mean fitness, maximum fitness, and the mean number of links in the creatures over 1000 iterations, we were able to observe the evolutionary progress and adaptiveness of the creatures.\n",
    "\n",
    "\n",
    "### Mean Fitness Over Iterations {-}"
   ]
  },
  {
   "cell_type": "code",
   "execution_count": null,
   "id": "a3f27548-4773-4013-8195-4b2319679919",
   "metadata": {
    "metadata": {
     "hide_input": true
    }
   },
   "outputs": [],
   "source": [
    "# Mean Fitness Over Iterations\n",
    "plt.figure(figsize=(12, 6))\n",
    "plt.plot(control_iterations, control_mean_fitness, label='Control Experiment', linewidth=2)\n",
    "plt.xlabel('Iterations')\n",
    "plt.ylabel('Mean Fitness')\n",
    "plt.title('Mean Fitness Over Iterations')\n",
    "plt.legend()\n",
    "plt.grid(True)\n",
    "plt.show()"
   ]
  },
  {
   "cell_type": "markdown",
   "id": "e0c571bc-6ce5-4596-823f-1b3826cd58c7",
   "metadata": {},
   "source": [
    "The mean fitness shows a steady increase over iterations, indicating that the population is evolving towards higher fitness levels. This upward trend suggests that the genetic algorithm is effectively selecting and propagating fitter individuals.\n",
    "\n",
    "**Insights:**\n",
    "\n",
    "- Gradual Improvement: The steady rise in mean fitness reflects the gradual improvement of the population as beneficial traits become more prevalent.\n",
    "- Algorithm Effectiveness: The increase in fitness levels confirms that the genetic algorithm is successfully identifying and promoting advantageous genetic combinations.\n",
    "\n",
    "\n",
    "### Maximum Fitness Over Iterations {-}"
   ]
  },
  {
   "cell_type": "code",
   "execution_count": null,
   "id": "015323e5-4f89-46ed-ba8a-a4ae87607aee",
   "metadata": {
    "metadata": {
     "hide_input": true
    }
   },
   "outputs": [],
   "source": [
    "# Maximum Fitness Over Iterations\n",
    "plt.figure(figsize=(12, 6))\n",
    "plt.plot(control_iterations, control_max_fitness, label='Control Experiment', linewidth=2)\n",
    "plt.xlabel('Iterations')\n",
    "plt.ylabel('Maximum Fitness')\n",
    "plt.title('Maximum Fitness Over Iterations')\n",
    "plt.legend()\n",
    "plt.grid(True)\n",
    "plt.show()"
   ]
  },
  {
   "cell_type": "markdown",
   "id": "343316ea-6f21-4cb5-b0f4-6b10ea58b723",
   "metadata": {},
   "source": [
    "The Maximum fitness plot highlights the highest fitness achieved in the population at each iteration. This metric is cruicial for understanding the potential of the genetic algorithm ot find highly fit individuals.\n",
    "\n",
    "**Insights:**\n",
    "\n",
    "- Peaks and Plateaus: The maximum fitness graph often shows peaks and plateaus, indicating periods of rapid improvement followed by stabilization as the algorithm converges on optimal solutions.\n",
    "- Diversity and Exploration: The occasional sharp rises in maximum fitness suggest that the algorithm explores diverse genetic combinations, occasionally finding significantly better solutions.\n",
    "\n",
    "\n",
    "### Mean Number of Links Over Iterations {-}"
   ]
  },
  {
   "cell_type": "code",
   "execution_count": null,
   "id": "7f0358e1-f31a-4b08-b1dc-5c719bd42dea",
   "metadata": {
    "metadata": {
     "hide_input": true
    }
   },
   "outputs": [],
   "source": [
    "# Mean Number of Links Over Iterations\n",
    "plt.figure(figsize=(12, 6))\n",
    "plt.plot(control_iterations, control_mean_links, label='Control Experiment', linewidth=2)\n",
    "plt.xlabel('Iterations')\n",
    "plt.ylabel('Mean Number of Links')\n",
    "plt.title('Mean Number of Links Over Iterations')\n",
    "plt.legend()\n",
    "plt.grid(True)\n",
    "plt.show()"
   ]
  },
  {
   "cell_type": "markdown",
   "id": "c6a9b992-8aa1-43a0-a9f7-1ca5d0160840",
   "metadata": {},
   "source": [
    "The mean number of links indicate the complexity of the creatures. This plot helps understand if more complex creatures tend to evolve higher fitness levels.\n",
    "\n",
    "**Insights**\n",
    "\n",
    "- Complexity vs. Fitness: The relationship between the mean number of links and fitness could possibly indicate that more complex creatures are advantageous. An increase in the mean number of links alongside fitness improvements suggests that complexity contributes to better adaptation.\n",
    "\n",
    "    \n",
    "### Experiments with Encoding Scheme {-}\n",
    "To further explore the evolutionary process, we conducted several experiments with different encoding schemes and parameter variations. These experiments aimed to understand how changes in encoding and mutation rates affect the evolution of the creatures.\n",
    "\n",
    "**Experiment Variations**\n",
    "\n",
    "Below is a table that summarizes the parameters and their encoding used in your experiments. Each experiment has specific parameters like population size, gene count, crossover rate, mutation rates, and any non-evolvable genes.\n",
    "\n",
    "| Experiment Name                          | Population Size | Gene Count | Crossover Rate | Point Mutation Rate | Shrink Mutation Rate | Grow Mutation Rate | Non-Evolvable Genes                    |\n",
    "|------------------------------------------|-----------------|------------|----------------|---------------------|----------------------|--------------------|----------------------------------------|\n",
    "| Control Experiment                       | 20              | 3          | 0.9            | 0.1                 | 0.25                 | 0.1                | None                                   |\n",
    "| Evolve Motor Controls                    | 20              | 3          | 0.9            | 0.1                 | 0.25                 | 0.1                | link-length, link-radius, link-shape   |\n",
    "| Evolve Link Length and Motor Controls    | 20              | 3          | 0.9            | 0.1                 | 0.25                 | 0.1                | link-shape                             |\n",
    "| High Population High Mutation            | 50              | 4          | 0.8            | 0.2                 | 0.35                 | 0.2                | None                                   |\n",
    "| Low Population High Crossover            | 10              | 2          | 1.0            | 0.1                 | 0.25                 | 0.1                | link-radius                            |\n",
    "\n",
    "\n",
    "## Results of Encoding Scheme Experiments {-}\n",
    "The results of these experiments were compared to the control experiment to evaluate the impact of different encoding schemes on the evolution process. By analyzing the mean fitness, maximum fitness, and mean number of links over iterations, we can better understand how different genetic configurations influence the evolutionary outcomes.\n",
    "\n",
    "\n",
    "### Mean Fitness Over Iterations {-}"
   ]
  },
  {
   "cell_type": "code",
   "execution_count": null,
   "id": "df5a1863-dafe-449b-aa48-30e082da0544",
   "metadata": {
    "metadata": {
     "hide_input": true
    }
   },
   "outputs": [],
   "source": [
    "# Mean Fitness Over Interations (Analysis)\n",
    "plt.figure(figsize=(12, 6))\n",
    "plt.plot(control_iterations, control_mean_fitness, label='Control Experiment', linewidth=2)\n",
    "for exp in encoding_experiments:\n",
    "    plt.plot(encoding_metrics[exp][0], encoding_metrics[exp][1], label=exp.replace('_', ' ').title(), linewidth=2)\n",
    "plt.xlabel('Iterations')\n",
    "plt.ylabel('Mean Fitness')\n",
    "plt.title('Mean Fitness Over Iterations')\n",
    "plt.legend()\n",
    "plt.grid(True)\n",
    "plt.show()"
   ]
  },
  {
   "cell_type": "markdown",
   "id": "a37bb063-441a-48a1-a4db-b678eef13dda",
   "metadata": {},
   "source": [
    "The mean fitness plots for different experiments show varying rates of improvement. The experiment with high population and high mutation rates shows the fastest increase in mean fitness, indicating a more aggressive exploration of the fitness landscape. However, due to computational limitations, the system was unable to compute past the recorded iterations for this experiment. This highlights the trade-off between population size, mutation rates, and computational feasibility.\n",
    "\n",
    "\n",
    "**Insights**\n",
    "\n",
    "- Aggressive Exploration: The high population and high mutation rate experiment demonstrates a rapid increase in mean fitness, suggesting that a larger population combined with higher mutation rates can accelerate the discovery of beneficial traits.\n",
    "- Computational Trade-offs: The inability to compute past certain iterations in the high population experiment underscores the balance between computational resources and the complexity of the genetic algorithm. While larger populations and higher mutation rates can drive faster evolution, they also demand more computational power.\n",
    "\n",
    "\n",
    "### Maximum Fitness Over Iterations {-}"
   ]
  },
  {
   "cell_type": "code",
   "execution_count": null,
   "id": "ce8dcd8b-9b00-4d93-b8c6-00d7583b1d23",
   "metadata": {
    "metadata": {
     "hide_input": true
    }
   },
   "outputs": [],
   "source": [
    "# Maximum Fitness Over Iterations (Analysis)\n",
    "plt.figure(figsize=(12, 6))\n",
    "plt.plot(control_iterations, control_max_fitness, label='Control Experiment', linewidth=2)\n",
    "for exp in encoding_experiments:\n",
    "    plt.plot(encoding_metrics[exp][0], encoding_metrics[exp][2], label=exp.replace('_', ' ').title(), linewidth=2)\n",
    "plt.xlabel('Iterations')\n",
    "plt.ylabel('Maximum Fitness')\n",
    "plt.title('Maximum Fitness Over Iterations')\n",
    "plt.legend()\n",
    "plt.grid(True)\n",
    "plt.show()"
   ]
  },
  {
   "cell_type": "markdown",
   "id": "c6929e2b-be8a-447f-ac99-267a06180677",
   "metadata": {},
   "source": [
    "The maximum fitness plots reveal that experiments with specific non-evolvable genes tend to reach higher fitness levels more quickly, suggesting that constraining certain traits can lead to more efficient optimization of others.\n",
    "\n",
    "**Insights:**\n",
    "\n",
    "- Efficient Optimization: Experiments with non-evolvable genes, such as those restricting link shapes or sizes, tend to reach higher maximum fitness levels more quickly. This suggests that limiting the evolution of certain traits can focus the genetic algorithm on optimizing other, more impactful traits.\n",
    "- Rapid Peaks: The experiments with high mutation rates and large populations show sharp increases in maximum fitness at various points, indicating periods of rapid discovery of highly fit individuals. This is contrasted with the more gradual increases seen in experiments with more constraints.\n",
    "\n",
    "\n",
    "### Mean Number of Links Over Iterations {-}"
   ]
  },
  {
   "cell_type": "code",
   "execution_count": null,
   "id": "9a46bc64-cf32-4611-8e6c-9afa883bb772",
   "metadata": {
    "metadata": {
     "hide_input": true
    }
   },
   "outputs": [],
   "source": [
    "# Mean Number of Links Over Iterations (Analysis)\n",
    "plt.figure(figsize=(12, 6))\n",
    "plt.plot(control_iterations, control_mean_links, label='Control Experiment', linewidth=2)\n",
    "for exp in encoding_experiments:\n",
    "    plt.plot(encoding_metrics[exp][0], encoding_metrics[exp][3], label=exp.replace('_', ' ').title(), linewidth=2)\n",
    "plt.xlabel('Iterations')\n",
    "plt.ylabel('Mean Number of Links')\n",
    "plt.title('Mean Number of Links Over Iterations')\n",
    "plt.legend()\n",
    "plt.grid(True)\n",
    "plt.show()"
   ]
  },
  {
   "cell_type": "markdown",
   "id": "186d2cb0-b4f7-4b63-b775-429bab73d415",
   "metadata": {},
   "source": [
    "The complexity of the creatures, as indicated by the mean number of links, shows interesting trends. Experiments with high population sizes and mutation rates tend to produce more complex creatures, while those with non-evolvable genes maintain simpler structures.\n",
    "\n",
    "**Insights:**\n",
    "- Increased Complexity: Experiments with high population sizes and mutation rates result in creatures with more links, indicating greater complexity. This suggests larger populations and frequent mutations lead to more intricate structures.\n",
    "- Simplicity and Efficiency: Experiments that constrain certain genes (non-evolvable) maintain simpler structures while achieving high fitness. This highlights that simplicity can be advantageous, and efficiency can be achieved without increasing structural complexity.\n",
    "- Balancing Act: Comparing different encoding schemes shows a balance between complexity and efficiency. More complex creatures may have advantages, but simpler designs can also be effective depending on evolutionary constraints and objectives.\n",
    "\n",
    "\n",
    "## Exceptional Criteria {-}\n",
    "In addition to the standard experiments, we attempted an exceptional criterion by introducing sensory input when creatures touch the mountain. This additional feedback mechanism provided the creatures with enhanced motor controls, leading to interesting results. By implementing sensory input, the creatures were able to detect when they were in contact with the mountain and adjust their motor outputs accordingly. This added a layer of complexity and adaptability to the creatures’ behavior.\n",
    "\n",
    "### Results of Exceptional Criteria {-}\n",
    "\n",
    "The sensory input allowed creatures to adapt more effectively to the environment, showing significant improvements in both fitness and complexity. The ability to sense and react to environmental cues resulted in more adaptive and robust behaviors. For example, creatures that could detect the mountain would increase their motor output to climb it, leading to higher fitness scores. This experiment demonstrated that adding sensory input can significantly enhance the evolutionary process by promoting more sophisticated and capable behaviors.\n",
    "\n",
    "To illustrate this, here is a code snippet that shows how sensory input was integrated into the motor control logic:"
   ]
  },
  {
   "cell_type": "markdown",
   "id": "dd2f7391-8c2e-4252-8f81-8bd3119c9316",
   "metadata": {},
   "source": [
    "```python\n",
    "def update_motors(self, cid, cr, target_position):\n",
    "    \"\"\"\n",
    "    Update motors to control the creature's movements with sensory input\n",
    "    \"\"\"\n",
    "    pos, orn = p.getBasePositionAndOrientation(cid, physicsClientId=self.physicsClientId)\n",
    "    for jid in range(p.getNumJoints(cid, physicsClientId=self.physicsClientId)):\n",
    "        m = cr.get_motors()[jid]\n",
    "        boost = 1.0\n",
    "        if self.is_touching_mountain(pos) or self.is_facing_mountain(pos, orn, target_position):\n",
    "            boost = 1.5  # Increase motor output by 50% when touching the mountain\n",
    "        p.setJointMotorControl2(cid, jid, controlMode=p.VELOCITY_CONTROL, targetVelocity=m.get_output() * boost, force=5, physicsClientId=self.physicsClientId)\n",
    "```"
   ]
  },
  {
   "cell_type": "markdown",
   "id": "c6a6455b-e7b1-4016-ba3e-3e60dd81027a",
   "metadata": {},
   "source": [
    "This code shows how the creatures were programmed to boost their motor output upon sensing the mountain, leading to improved climbing abilities and overall fitness.\n",
    "\n",
    "## Conclusion {-}\n",
    "The experiments demonstrated the effectiveness of evolutionary computing in evolving creatures with varying fitness and complexity. The control experiment established a baseline, while the encoding scheme experiments revealed the impact of different genetic configurations on the evolutionary process. The exceptional criteria with sensory input highlighted the potential for more advanced adaptations. By adding sensory input, the creatures became more responsive to their environment, leading to significant improvements in their fitness and complexity.\n",
    "\n",
    "Future work could explore more complex sensory inputs, multi-objective optimization, and real-world applications of evolved creatures in robotics and artificial intelligence. For instance, integrating sensors for light, sound, or other environmental factors could lead to even more sophisticated behaviors. Additionally, optimizing for multiple objectives, such as energy efficiency and speed, could create more well-rounded and practical solutions for real-world applications.\n",
    "\n",
    "\n",
    "**Word Count: 1950**"
   ]
  },
  {
   "cell_type": "markdown",
   "id": "802b641e-42f4-4019-872d-1998ac0169b7",
   "metadata": {},
   "source": [
    "## References {-}\n",
    "\n",
    "Here are the references for the tools and libraries used in this project:\n",
    "\n",
    "- NumPy Documentation (2024) NumPy. Available at: https://numpy.org/doc/ (Accessed: 8 July 2024).\n",
    "- PyBullet Documentation (2024) PyBullet Physics Simulation. Available at: https://pybullet.org/ (Accessed: 8 July 2024).\n",
    "- Matplotlib Documentation (2024) Matplotlib. Available at: https://matplotlib.org/stable/contents.html (Accessed: 8 July 2024).\n",
    "- Seaborn Documentation (2024) Seaborn. Available at: https://seaborn.pydata.org/ (Accessed: 8 July 2024).\n",
    "- Jupyter Notebook Documentation (2024) Jupyter Notebook. Available at: https://jupyter-notebook.readthedocs.io/ (Accessed: 8 July 2024).\n",
    "- JSON Documentation (2024) JSON. Available at: https://www.json.org/json-en.html (Accessed: 8 July 2024)."
   ]
  }
 ],
 "metadata": {
  "kernelspec": {
   "display_name": "Python 3 (ipykernel)",
   "language": "python",
   "name": "python3"
  },
  "language_info": {
   "codemirror_mode": {
    "name": "ipython",
    "version": 3
   },
   "file_extension": ".py",
   "mimetype": "text/x-python",
   "name": "python",
   "nbconvert_exporter": "python",
   "pygments_lexer": "ipython3",
   "version": "3.12.2"
  }
 },
 "nbformat": 4,
 "nbformat_minor": 5
}
